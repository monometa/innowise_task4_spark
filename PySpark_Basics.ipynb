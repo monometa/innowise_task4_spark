{
 "cells": [
  {
   "cell_type": "markdown",
   "id": "trained-moses",
   "metadata": {},
   "source": [
    "import libraries(I provide all libs that I need when make this tasks, if you need some external import them here)"
   ]
  },
  {
   "cell_type": "code",
   "execution_count": 1,
   "id": "induced-african",
   "metadata": {},
   "outputs": [],
   "source": [
    "import pyspark\n",
    "from pyspark.sql import SparkSession\n",
    "from pyspark.sql.types import StructType, StructField, IntegerType, StringType\n",
    "from pyspark.sql.functions import col\n",
    "from pyspark.sql.functions import max, avg, min\n",
    "from pyspark.sql.window import Window\n",
    "from pyspark.sql.functions import row_number\n",
    "from pyspark.sql.functions import when"
   ]
  },
  {
   "cell_type": "markdown",
   "id": "permanent-photographer",
   "metadata": {},
   "source": [
    "create local SparkSession"
   ]
  },
  {
   "cell_type": "code",
   "execution_count": 2,
   "id": "stock-partnership",
   "metadata": {},
   "outputs": [],
   "source": [
    "spark = (SparkSession.builder.master(\"local[*]\")\n",
    "          .appName(\"pyspark_basics\")\n",
    "          .getOrCreate()\n",
    ")"
   ]
  },
  {
   "cell_type": "markdown",
   "id": "juvenile-blame",
   "metadata": {},
   "source": [
    "read csv with inferschema"
   ]
  },
  {
   "cell_type": "code",
   "execution_count": 3,
   "id": "computational-liverpool",
   "metadata": {},
   "outputs": [],
   "source": [
    "df = spark.read.option(\"header\", True).csv(\"ds_salaries.csv\")"
   ]
  },
  {
   "cell_type": "markdown",
   "id": "stopped-dominant",
   "metadata": {},
   "source": [
    "read csv one more time with the same code and you will see that it almostly don't take time, because info already in SparkSession and it will not read nothing\n",
    "from this file"
   ]
  },
  {
   "cell_type": "code",
   "execution_count": 4,
   "id": "aging-neighborhood",
   "metadata": {},
   "outputs": [],
   "source": [
    "df = spark.read.option(\"header\", True).csv(\"ds_salaries.csv\")"
   ]
  },
  {
   "cell_type": "markdown",
   "id": "mature-tomorrow",
   "metadata": {},
   "source": [
    "write schema of scv on screen"
   ]
  },
  {
   "cell_type": "code",
   "execution_count": 5,
   "id": "least-communications",
   "metadata": {},
   "outputs": [
    {
     "name": "stdout",
     "output_type": "stream",
     "text": [
      "root\n",
      " |-- _c0: string (nullable = true)\n",
      " |-- work_year: string (nullable = true)\n",
      " |-- experience_level: string (nullable = true)\n",
      " |-- employment_type: string (nullable = true)\n",
      " |-- job_title: string (nullable = true)\n",
      " |-- salary: string (nullable = true)\n",
      " |-- salary_currency: string (nullable = true)\n",
      " |-- salary_in_usd: string (nullable = true)\n",
      " |-- employee_residence: string (nullable = true)\n",
      " |-- remote_ratio: string (nullable = true)\n",
      " |-- company_location: string (nullable = true)\n",
      " |-- company_size: string (nullable = true)\n",
      "\n"
     ]
    }
   ],
   "source": [
    "df.printSchema()"
   ]
  },
  {
   "cell_type": "markdown",
   "id": "connected-brother",
   "metadata": {},
   "source": [
    "create schema of this scv"
   ]
  },
  {
   "cell_type": "code",
   "execution_count": 6,
   "id": "progressive-dictionary",
   "metadata": {},
   "outputs": [],
   "source": [
    "data_science_job_salaries_schema = StructType([\n",
    "    StructField(\"id\", IntegerType(), nullable=False),\n",
    "    StructField(\"work_year\", IntegerType(), True),\n",
    "    StructField(\"experience_level\", StringType(), True),\n",
    "    StructField(\"employment_type\", StringType(), True),\n",
    "    StructField(\"job_title\", StringType(), True),\n",
    "    StructField(\"salary\", IntegerType(), True),\n",
    "    StructField(\"salary_currency\", StringType(), True),\n",
    "    StructField(\"salary_in_usd\", IntegerType(), True),\n",
    "    StructField(\"employee_residence\", StringType(), True),\n",
    "    StructField(\"remote_ratio\", StringType(), True),\n",
    "    StructField(\"company_location\", StringType(), True),\n",
    "    StructField(\"company_size\", StringType(), True)\n",
    "])"
   ]
  },
  {
   "cell_type": "markdown",
   "id": "auburn-sauce",
   "metadata": {},
   "source": [
    "restart kernel without cleaning output and after restarting you need to initialize SparkSession, after initialize start execute only cells from cell with schema=\n",
    "=StructType.... \n",
    "To restart kernel click Kernel, Restart."
   ]
  },
  {
   "cell_type": "markdown",
   "id": "artistic-hospital",
   "metadata": {},
   "source": [
    "read ds_salaries with predefined schema and compare results from this cell and cell with inferSchema"
   ]
  },
  {
   "cell_type": "code",
   "execution_count": 7,
   "id": "literary-plaintiff",
   "metadata": {},
   "outputs": [],
   "source": [
    "df_with_schema = spark.read.csv(\"ds_salaries.csv\", header=True, schema=data_science_job_salaries_schema)"
   ]
  },
  {
   "cell_type": "markdown",
   "id": "senior-joint",
   "metadata": {},
   "source": [
    "this happens because read operation is lazy(transformation), but if you use inferschema it start to be action that will create Spark Job, because Spark need to loop throw all file to check datatypes for all columns and this can harm to your code(if we compare to parquet, it will also go to check data types, but parquet provide meta information, so Spark will not go throw all file, he will just read meta information, but csv don't provide such meta information). Also header make Spark to create one more Spark Job to check first line\n",
    "to define name of columns and remember to skeep it when reading. Actual reading start when you will use first action. More about Spark Jobs you will see in next topic"
   ]
  },
  {
   "cell_type": "markdown",
   "id": "underlying-assurance",
   "metadata": {},
   "source": [
    "write schema of scv on screen one more time and compare with previous"
   ]
  },
  {
   "cell_type": "code",
   "execution_count": 8,
   "id": "solid-infection",
   "metadata": {},
   "outputs": [
    {
     "name": "stdout",
     "output_type": "stream",
     "text": [
      "root\n",
      " |-- id: integer (nullable = true)\n",
      " |-- work_year: integer (nullable = true)\n",
      " |-- experience_level: string (nullable = true)\n",
      " |-- employment_type: string (nullable = true)\n",
      " |-- job_title: string (nullable = true)\n",
      " |-- salary: integer (nullable = true)\n",
      " |-- salary_currency: string (nullable = true)\n",
      " |-- salary_in_usd: integer (nullable = true)\n",
      " |-- employee_residence: string (nullable = true)\n",
      " |-- remote_ratio: string (nullable = true)\n",
      " |-- company_location: string (nullable = true)\n",
      " |-- company_size: string (nullable = true)\n",
      "\n"
     ]
    }
   ],
   "source": [
    "df_with_schema.printSchema()"
   ]
  },
  {
   "cell_type": "markdown",
   "id": "close-water",
   "metadata": {},
   "source": [
    "now continue to work with one of the dataframes that you create"
   ]
  },
  {
   "cell_type": "markdown",
   "id": "piano-belgium",
   "metadata": {},
   "source": [
    "print data in dataframe using df.show"
   ]
  },
  {
   "cell_type": "code",
   "execution_count": 9,
   "id": "legendary-alarm",
   "metadata": {},
   "outputs": [
    {
     "name": "stdout",
     "output_type": "stream",
     "text": [
      "-RECORD 0----------------------------\n",
      " id                 | 0              \n",
      " work_year          | 2020           \n",
      " experience_level   | MI             \n",
      " employment_type    | FT             \n",
      " job_title          | Data Scientist \n",
      " salary             | 70000          \n",
      " salary_currency    | EUR            \n",
      " salary_in_usd      | 79833          \n",
      " employee_residence | DE             \n",
      " remote_ratio       | 0              \n",
      " company_location   | DE             \n",
      " company_size       | L              \n",
      "only showing top 1 row\n",
      "\n"
     ]
    }
   ],
   "source": [
    "df = df_with_schema\n",
    "df.show(1, vertical=True)"
   ]
  },
  {
   "cell_type": "markdown",
   "id": "tamil-medium",
   "metadata": {},
   "source": [
    "print data in dataframe using display(df.toPandas())"
   ]
  },
  {
   "cell_type": "code",
   "execution_count": 10,
   "id": "connected-dryer",
   "metadata": {},
   "outputs": [
    {
     "data": {
      "text/html": [
       "<div>\n",
       "<style scoped>\n",
       "    .dataframe tbody tr th:only-of-type {\n",
       "        vertical-align: middle;\n",
       "    }\n",
       "\n",
       "    .dataframe tbody tr th {\n",
       "        vertical-align: top;\n",
       "    }\n",
       "\n",
       "    .dataframe thead th {\n",
       "        text-align: right;\n",
       "    }\n",
       "</style>\n",
       "<table border=\"1\" class=\"dataframe\">\n",
       "  <thead>\n",
       "    <tr style=\"text-align: right;\">\n",
       "      <th></th>\n",
       "      <th>id</th>\n",
       "      <th>work_year</th>\n",
       "      <th>experience_level</th>\n",
       "      <th>employment_type</th>\n",
       "      <th>job_title</th>\n",
       "      <th>salary</th>\n",
       "      <th>salary_currency</th>\n",
       "      <th>salary_in_usd</th>\n",
       "      <th>employee_residence</th>\n",
       "      <th>remote_ratio</th>\n",
       "      <th>company_location</th>\n",
       "      <th>company_size</th>\n",
       "    </tr>\n",
       "  </thead>\n",
       "  <tbody>\n",
       "    <tr>\n",
       "      <th>0</th>\n",
       "      <td>0</td>\n",
       "      <td>2020</td>\n",
       "      <td>MI</td>\n",
       "      <td>FT</td>\n",
       "      <td>Data Scientist</td>\n",
       "      <td>70000</td>\n",
       "      <td>EUR</td>\n",
       "      <td>79833</td>\n",
       "      <td>DE</td>\n",
       "      <td>0</td>\n",
       "      <td>DE</td>\n",
       "      <td>L</td>\n",
       "    </tr>\n",
       "    <tr>\n",
       "      <th>1</th>\n",
       "      <td>1</td>\n",
       "      <td>2020</td>\n",
       "      <td>SE</td>\n",
       "      <td>FT</td>\n",
       "      <td>Machine Learning Scientist</td>\n",
       "      <td>260000</td>\n",
       "      <td>USD</td>\n",
       "      <td>260000</td>\n",
       "      <td>JP</td>\n",
       "      <td>0</td>\n",
       "      <td>JP</td>\n",
       "      <td>S</td>\n",
       "    </tr>\n",
       "    <tr>\n",
       "      <th>2</th>\n",
       "      <td>2</td>\n",
       "      <td>2020</td>\n",
       "      <td>SE</td>\n",
       "      <td>FT</td>\n",
       "      <td>Big Data Engineer</td>\n",
       "      <td>85000</td>\n",
       "      <td>GBP</td>\n",
       "      <td>109024</td>\n",
       "      <td>GB</td>\n",
       "      <td>50</td>\n",
       "      <td>GB</td>\n",
       "      <td>M</td>\n",
       "    </tr>\n",
       "    <tr>\n",
       "      <th>3</th>\n",
       "      <td>3</td>\n",
       "      <td>2020</td>\n",
       "      <td>MI</td>\n",
       "      <td>FT</td>\n",
       "      <td>Product Data Analyst</td>\n",
       "      <td>20000</td>\n",
       "      <td>USD</td>\n",
       "      <td>20000</td>\n",
       "      <td>HN</td>\n",
       "      <td>0</td>\n",
       "      <td>HN</td>\n",
       "      <td>S</td>\n",
       "    </tr>\n",
       "    <tr>\n",
       "      <th>4</th>\n",
       "      <td>4</td>\n",
       "      <td>2020</td>\n",
       "      <td>SE</td>\n",
       "      <td>FT</td>\n",
       "      <td>Machine Learning Engineer</td>\n",
       "      <td>150000</td>\n",
       "      <td>USD</td>\n",
       "      <td>150000</td>\n",
       "      <td>US</td>\n",
       "      <td>50</td>\n",
       "      <td>US</td>\n",
       "      <td>L</td>\n",
       "    </tr>\n",
       "  </tbody>\n",
       "</table>\n",
       "</div>"
      ],
      "text/plain": [
       "   id  work_year experience_level employment_type                   job_title  \\\n",
       "0   0       2020               MI              FT              Data Scientist   \n",
       "1   1       2020               SE              FT  Machine Learning Scientist   \n",
       "2   2       2020               SE              FT           Big Data Engineer   \n",
       "3   3       2020               MI              FT        Product Data Analyst   \n",
       "4   4       2020               SE              FT   Machine Learning Engineer   \n",
       "\n",
       "   salary salary_currency  salary_in_usd employee_residence remote_ratio  \\\n",
       "0   70000             EUR          79833                 DE            0   \n",
       "1  260000             USD         260000                 JP            0   \n",
       "2   85000             GBP         109024                 GB           50   \n",
       "3   20000             USD          20000                 HN            0   \n",
       "4  150000             USD         150000                 US           50   \n",
       "\n",
       "  company_location company_size  \n",
       "0               DE            L  \n",
       "1               JP            S  \n",
       "2               GB            M  \n",
       "3               HN            S  \n",
       "4               US            L  "
      ]
     },
     "metadata": {},
     "output_type": "display_data"
    }
   ],
   "source": [
    "display(df.toPandas().head())"
   ]
  },
  {
   "cell_type": "markdown",
   "id": "opponent-gazette",
   "metadata": {},
   "source": [
    "create df_job_title that consists from all job_titles without duplicates"
   ]
  },
  {
   "cell_type": "code",
   "execution_count": 11,
   "id": "friendly-cartridge",
   "metadata": {},
   "outputs": [],
   "source": [
    "df_job_title = df.select('job_title').distinct()"
   ]
  },
  {
   "cell_type": "markdown",
   "id": "offshore-architecture",
   "metadata": {},
   "source": [
    "print all rows from df_job_titles without truncating jobs"
   ]
  },
  {
   "cell_type": "code",
   "execution_count": 12,
   "id": "asian-edition",
   "metadata": {},
   "outputs": [
    {
     "name": "stdout",
     "output_type": "stream",
     "text": [
      "-RECORD 0----------------------------------\n",
      " job_title | 3D Computer Vision Researcher \n",
      "-RECORD 1----------------------------------\n",
      " job_title | Lead Data Engineer            \n",
      "-RECORD 2----------------------------------\n",
      " job_title | Head of Machine Learning      \n",
      "-RECORD 3----------------------------------\n",
      " job_title | Data Specialist               \n",
      "-RECORD 4----------------------------------\n",
      " job_title | Data Analytics Lead           \n",
      "only showing top 5 rows\n",
      "\n"
     ]
    }
   ],
   "source": [
    "df_job_title.show(5, vertical=True, truncate=False)"
   ]
  },
  {
   "cell_type": "markdown",
   "id": "interim-pharmacy",
   "metadata": {},
   "source": [
    "create  df_analytic that will consists from max, avg, min USD salaries for all job_titles using groupBy. name of fields is avg_salary, min_salary, max_salary"
   ]
  },
  {
   "cell_type": "code",
   "execution_count": 13,
   "id": "naval-roller",
   "metadata": {},
   "outputs": [],
   "source": [
    "df_analytic = (df.groupBy(\"job_title\") \n",
    "    .agg(\n",
    "        avg(\"salary_in_usd\").alias(\"avg_salary\"), \n",
    "        min(\"salary_in_usd\").alias(\"min_salary\"), \n",
    "        max(\"salary_in_usd\").alias(\"max_salary\"))\n",
    ") \n",
    "\n",
    "# or with filter by currency\n",
    "\n",
    "# df_analytic = (\n",
    "#     df.filter(col(\"salary_currency\") == \"USD\")\n",
    "#     .groupby(\"job_title\")\n",
    "#     .agg(\n",
    "#         avg(\"salary_in_usd\").alias(\"avg_salary\"),\n",
    "#         min(\"salary_in_usd\").alias(\"min_salary\"),\n",
    "#         max(\"salary_in_usd\").alias(\"max_salary\"),\n",
    "#     )\n",
    "# )\n"
   ]
  },
  {
   "attachments": {},
   "cell_type": "markdown",
   "id": "french-pledge",
   "metadata": {},
   "source": [
    "print all rows from df_analytic without trancating jobs"
   ]
  },
  {
   "cell_type": "code",
   "execution_count": 14,
   "id": "bacterial-depression",
   "metadata": {},
   "outputs": [
    {
     "name": "stdout",
     "output_type": "stream",
     "text": [
      "-RECORD 0-----------------------------------\n",
      " job_title  | 3D Computer Vision Researcher \n",
      " avg_salary | 5409.0                        \n",
      " min_salary | 5409                          \n",
      " max_salary | 5409                          \n",
      "-RECORD 1-----------------------------------\n",
      " job_title  | Lead Data Engineer            \n",
      " avg_salary | 139724.5                      \n",
      " min_salary | 56000                         \n",
      " max_salary | 276000                        \n",
      "-RECORD 2-----------------------------------\n",
      " job_title  | Head of Machine Learning      \n",
      " avg_salary | 79039.0                       \n",
      " min_salary | 79039                         \n",
      " max_salary | 79039                         \n",
      "-RECORD 3-----------------------------------\n",
      " job_title  | Data Specialist               \n",
      " avg_salary | 165000.0                      \n",
      " min_salary | 165000                        \n",
      " max_salary | 165000                        \n",
      "only showing top 4 rows\n",
      "\n"
     ]
    }
   ],
   "source": [
    "df_analytic.show(4, vertical=True, truncate=False)\n",
    "# df_analytic.toPandas()"
   ]
  },
  {
   "cell_type": "markdown",
   "id": "hazardous-color",
   "metadata": {},
   "source": [
    "now you need to add in df_analytic column row_id, that will show order of all job_titles depending on avg salary. they should be descending"
   ]
  },
  {
   "cell_type": "code",
   "execution_count": 15,
   "id": "nearby-treasurer",
   "metadata": {},
   "outputs": [],
   "source": [
    "from pyspark.sql.functions import row_number, desc\n",
    "from pyspark.sql.window import Window\n",
    "\n",
    "df_analytic = (\n",
    "    df_analytic\n",
    "        .withColumn(\"row_id\", \n",
    "            row_number()\n",
    "                .over(\n",
    "                    Window\n",
    "                    .orderBy(\n",
    "                        desc(\"avg_salary\"))\n",
    "                    )\n",
    "            )\n",
    "    )"
   ]
  },
  {
   "cell_type": "markdown",
   "id": "documented-catalog",
   "metadata": {},
   "source": [
    "print all data from df_analytic"
   ]
  },
  {
   "cell_type": "code",
   "execution_count": 16,
   "id": "confirmed-monitoring",
   "metadata": {},
   "outputs": [
    {
     "name": "stdout",
     "output_type": "stream",
     "text": [
      "-RECORD 0------------------------------\n",
      " job_title  | Data Analytics Lead      \n",
      " avg_salary | 405000.0                 \n",
      " min_salary | 405000                   \n",
      " max_salary | 405000                   \n",
      " row_id     | 1                        \n",
      "-RECORD 1------------------------------\n",
      " job_title  | Principal Data Engineer  \n",
      " avg_salary | 328333.3333333333        \n",
      " min_salary | 185000                   \n",
      " max_salary | 600000                   \n",
      " row_id     | 2                        \n",
      "-RECORD 2------------------------------\n",
      " job_title  | Financial Data Analyst   \n",
      " avg_salary | 275000.0                 \n",
      " min_salary | 100000                   \n",
      " max_salary | 450000                   \n",
      " row_id     | 3                        \n",
      "-RECORD 3------------------------------\n",
      " job_title  | Principal Data Scientist \n",
      " avg_salary | 215242.42857142858       \n",
      " min_salary | 148261                   \n",
      " max_salary | 416000                   \n",
      " row_id     | 4                        \n",
      "-RECORD 4------------------------------\n",
      " job_title  | Director of Data Science \n",
      " avg_salary | 195074.0                 \n",
      " min_salary | 130026                   \n",
      " max_salary | 325000                   \n",
      " row_id     | 5                        \n",
      "only showing top 5 rows\n",
      "\n"
     ]
    }
   ],
   "source": [
    "df_analytic.show(5, vertical=True, truncate=False)"
   ]
  },
  {
   "cell_type": "markdown",
   "id": "satellite-quarter",
   "metadata": {},
   "source": [
    "it isn't beautifull, so we need to put now row_id on first place in df_analytic"
   ]
  },
  {
   "cell_type": "code",
   "execution_count": 17,
   "id": "ranging-tribune",
   "metadata": {},
   "outputs": [],
   "source": [
    "reordered_columns = [\"row_id\", \"avg_salary\", \"min_salary\", \"max_salary\"]\n",
    "df_analytic = df_analytic.select(reordered_columns)"
   ]
  },
  {
   "cell_type": "markdown",
   "id": "reliable-amsterdam",
   "metadata": {},
   "source": [
    "print df_analytic now"
   ]
  },
  {
   "cell_type": "code",
   "execution_count": 18,
   "id": "classical-biology",
   "metadata": {},
   "outputs": [
    {
     "name": "stdout",
     "output_type": "stream",
     "text": [
      "-RECORD 0------------------------\n",
      " row_id     | 1                  \n",
      " avg_salary | 405000.0           \n",
      " min_salary | 405000             \n",
      " max_salary | 405000             \n",
      "-RECORD 1------------------------\n",
      " row_id     | 2                  \n",
      " avg_salary | 328333.3333333333  \n",
      " min_salary | 185000             \n",
      " max_salary | 600000             \n",
      "-RECORD 2------------------------\n",
      " row_id     | 3                  \n",
      " avg_salary | 275000.0           \n",
      " min_salary | 100000             \n",
      " max_salary | 450000             \n",
      "-RECORD 3------------------------\n",
      " row_id     | 4                  \n",
      " avg_salary | 215242.42857142858 \n",
      " min_salary | 148261             \n",
      " max_salary | 416000             \n",
      "-RECORD 4------------------------\n",
      " row_id     | 5                  \n",
      " avg_salary | 195074.0           \n",
      " min_salary | 130026             \n",
      " max_salary | 325000             \n",
      "only showing top 5 rows\n",
      "\n"
     ]
    }
   ],
   "source": [
    "df_analytic.show(5, vertical=True, truncate=False)"
   ]
  },
  {
   "cell_type": "markdown",
   "id": "hybrid-queensland",
   "metadata": {},
   "source": [
    "here you need to create df_exp_lvl with the biggest usd_salary(biggest_salary) for each experience_level(you need to save all fields like in entire dataframe)"
   ]
  },
  {
   "cell_type": "code",
   "execution_count": 19,
   "id": "dental-wrist",
   "metadata": {},
   "outputs": [],
   "source": [
    "df_exp_lvl = (\n",
    "    df.withColumn(\n",
    "        \"salary_rank\",\n",
    "        row_number().over(\n",
    "            Window.partitionBy(\"experience_level\").orderBy(col(\"salary_in_usd\").desc())\n",
    "        ),\n",
    "    )\n",
    "    .filter(col(\"salary_rank\") == 1)\n",
    "    .drop(\"salary_rank\")\n",
    "    .withColumnRenamed(\"salary\", \"biggest_salary\")\n",
    ")"
   ]
  },
  {
   "cell_type": "markdown",
   "id": "innovative-hierarchy",
   "metadata": {},
   "source": [
    "print here df_exp_lvl"
   ]
  },
  {
   "cell_type": "code",
   "execution_count": 20,
   "id": "standing-toilet",
   "metadata": {},
   "outputs": [
    {
     "data": {
      "text/html": [
       "<div>\n",
       "<style scoped>\n",
       "    .dataframe tbody tr th:only-of-type {\n",
       "        vertical-align: middle;\n",
       "    }\n",
       "\n",
       "    .dataframe tbody tr th {\n",
       "        vertical-align: top;\n",
       "    }\n",
       "\n",
       "    .dataframe thead th {\n",
       "        text-align: right;\n",
       "    }\n",
       "</style>\n",
       "<table border=\"1\" class=\"dataframe\">\n",
       "  <thead>\n",
       "    <tr style=\"text-align: right;\">\n",
       "      <th></th>\n",
       "      <th>id</th>\n",
       "      <th>work_year</th>\n",
       "      <th>experience_level</th>\n",
       "      <th>employment_type</th>\n",
       "      <th>job_title</th>\n",
       "      <th>biggest_salary</th>\n",
       "      <th>salary_currency</th>\n",
       "      <th>salary_in_usd</th>\n",
       "      <th>employee_residence</th>\n",
       "      <th>remote_ratio</th>\n",
       "      <th>company_location</th>\n",
       "      <th>company_size</th>\n",
       "    </tr>\n",
       "  </thead>\n",
       "  <tbody>\n",
       "    <tr>\n",
       "      <th>0</th>\n",
       "      <td>37</td>\n",
       "      <td>2020</td>\n",
       "      <td>EN</td>\n",
       "      <td>FT</td>\n",
       "      <td>Machine Learning Engineer</td>\n",
       "      <td>250000</td>\n",
       "      <td>USD</td>\n",
       "      <td>250000</td>\n",
       "      <td>US</td>\n",
       "      <td>50</td>\n",
       "      <td>US</td>\n",
       "      <td>L</td>\n",
       "    </tr>\n",
       "    <tr>\n",
       "      <th>1</th>\n",
       "      <td>252</td>\n",
       "      <td>2021</td>\n",
       "      <td>EX</td>\n",
       "      <td>FT</td>\n",
       "      <td>Principal Data Engineer</td>\n",
       "      <td>600000</td>\n",
       "      <td>USD</td>\n",
       "      <td>600000</td>\n",
       "      <td>US</td>\n",
       "      <td>100</td>\n",
       "      <td>US</td>\n",
       "      <td>L</td>\n",
       "    </tr>\n",
       "    <tr>\n",
       "      <th>2</th>\n",
       "      <td>33</td>\n",
       "      <td>2020</td>\n",
       "      <td>MI</td>\n",
       "      <td>FT</td>\n",
       "      <td>Research Scientist</td>\n",
       "      <td>450000</td>\n",
       "      <td>USD</td>\n",
       "      <td>450000</td>\n",
       "      <td>US</td>\n",
       "      <td>0</td>\n",
       "      <td>US</td>\n",
       "      <td>M</td>\n",
       "    </tr>\n",
       "    <tr>\n",
       "      <th>3</th>\n",
       "      <td>63</td>\n",
       "      <td>2020</td>\n",
       "      <td>SE</td>\n",
       "      <td>FT</td>\n",
       "      <td>Data Scientist</td>\n",
       "      <td>412000</td>\n",
       "      <td>USD</td>\n",
       "      <td>412000</td>\n",
       "      <td>US</td>\n",
       "      <td>100</td>\n",
       "      <td>US</td>\n",
       "      <td>L</td>\n",
       "    </tr>\n",
       "  </tbody>\n",
       "</table>\n",
       "</div>"
      ],
      "text/plain": [
       "    id  work_year experience_level employment_type                  job_title  \\\n",
       "0   37       2020               EN              FT  Machine Learning Engineer   \n",
       "1  252       2021               EX              FT    Principal Data Engineer   \n",
       "2   33       2020               MI              FT         Research Scientist   \n",
       "3   63       2020               SE              FT             Data Scientist   \n",
       "\n",
       "   biggest_salary salary_currency  salary_in_usd employee_residence  \\\n",
       "0          250000             USD         250000                 US   \n",
       "1          600000             USD         600000                 US   \n",
       "2          450000             USD         450000                 US   \n",
       "3          412000             USD         412000                 US   \n",
       "\n",
       "  remote_ratio company_location company_size  \n",
       "0           50               US            L  \n",
       "1          100               US            L  \n",
       "2            0               US            M  \n",
       "3          100               US            L  "
      ]
     },
     "execution_count": 20,
     "metadata": {},
     "output_type": "execute_result"
    }
   ],
   "source": [
    "df_exp_lvl.toPandas()"
   ]
  },
  {
   "attachments": {},
   "cell_type": "markdown",
   "id": "hawaiian-mortgage",
   "metadata": {},
   "source": [
    "create df_best that consists from rows:\n",
    "\n",
    "where salary of guy same as biggest salary for other people in his exp_lvl\n",
    "\n",
    "and choose only columns:\n",
    "\n",
    "    id, experience_level, biggest_salary, employee_residence"
   ]
  },
  {
   "cell_type": "code",
   "execution_count": 21,
   "id": "toxic-prompt",
   "metadata": {},
   "outputs": [],
   "source": [
    "from pyspark.sql.functions import col\n",
    "df_max_salary_grouped_by_exp_lvl = df.groupBy(\"experience_level\").agg(max(\"salary\").alias(\"max_salary\"))\n",
    "df_best = (df\n",
    "            .join(\n",
    "                df_max_salary_grouped_by_exp_lvl, \n",
    "                (df[\"salary\"] == df_max_salary_grouped_by_exp_lvl[\"max_salary\"])\n",
    "                & (df[\"experience_level\"] == df_max_salary_grouped_by_exp_lvl[\"experience_level\"]),\n",
    "                how=\"left_semi\")\n",
    "            .select(\"id\", \"experience_level\", col(\"salary\").alias(\"biggest_salary\"), \"employee_residence\")\n",
    ")"
   ]
  },
  {
   "cell_type": "markdown",
   "id": "complex-librarian",
   "metadata": {},
   "source": [
    "print df_best"
   ]
  },
  {
   "cell_type": "code",
   "execution_count": 22,
   "id": "smart-texas",
   "metadata": {},
   "outputs": [
    {
     "name": "stdout",
     "output_type": "stream",
     "text": [
      "+---+----------------+--------------+------------------+\n",
      "| id|experience_level|biggest_salary|employee_residence|\n",
      "+---+----------------+--------------+------------------+\n",
      "| 16|              EN|       4450000|                JP|\n",
      "|177|              MI|      30400000|                CL|\n",
      "|285|              SE|       7000000|                IN|\n",
      "|384|              EX|       6000000|                IN|\n",
      "+---+----------------+--------------+------------------+\n",
      "\n"
     ]
    }
   ],
   "source": [
    "df_best.show()"
   ]
  },
  {
   "cell_type": "markdown",
   "id": "integral-brass",
   "metadata": {},
   "source": [
    "drop duplicates if exist by experience_level"
   ]
  },
  {
   "cell_type": "code",
   "execution_count": 23,
   "id": "immune-marine",
   "metadata": {},
   "outputs": [],
   "source": [
    "df_best = df_best.drop_duplicates([\"experience_level\"])"
   ]
  },
  {
   "cell_type": "markdown",
   "id": "connected-credit",
   "metadata": {},
   "source": [
    "print df_best"
   ]
  },
  {
   "cell_type": "code",
   "execution_count": 24,
   "id": "specified-wellington",
   "metadata": {},
   "outputs": [
    {
     "name": "stdout",
     "output_type": "stream",
     "text": [
      "+---+----------------+--------------+------------------+\n",
      "| id|experience_level|biggest_salary|employee_residence|\n",
      "+---+----------------+--------------+------------------+\n",
      "| 16|              EN|       4450000|                JP|\n",
      "|384|              EX|       6000000|                IN|\n",
      "|177|              MI|      30400000|                CL|\n",
      "|285|              SE|       7000000|                IN|\n",
      "+---+----------------+--------------+------------------+\n",
      "\n"
     ]
    }
   ],
   "source": [
    "df_best.show()"
   ]
  },
  {
   "cell_type": "markdown",
   "id": "facial-plant",
   "metadata": {},
   "source": [
    "create df_new_best from df_best without id, and make the next: when exp_level = MI we want middle, when SE we want senior, else Null"
   ]
  },
  {
   "cell_type": "code",
   "execution_count": 25,
   "id": "infinite-retail",
   "metadata": {},
   "outputs": [],
   "source": [
    "from pyspark.sql.functions import when\n",
    "\n",
    "df_new_best = df_best.drop(\"id\").withColumn(\"experience_level\",\n",
    "                                  when(df_best[\"experience_level\"] == \"MI\",\"middle\")\n",
    "                                 .when(df_best[\"experience_level\"] == \"SE\",\"senior\")\n",
    "                                 )"
   ]
  },
  {
   "cell_type": "markdown",
   "id": "changing-fairy",
   "metadata": {},
   "source": [
    "print df_new_best"
   ]
  },
  {
   "cell_type": "code",
   "execution_count": 26,
   "id": "endless-framework",
   "metadata": {},
   "outputs": [
    {
     "name": "stdout",
     "output_type": "stream",
     "text": [
      "-RECORD 0----------------------\n",
      " experience_level   | null     \n",
      " biggest_salary     | 4450000  \n",
      " employee_residence | JP       \n",
      "-RECORD 1----------------------\n",
      " experience_level   | null     \n",
      " biggest_salary     | 6000000  \n",
      " employee_residence | IN       \n",
      "-RECORD 2----------------------\n",
      " experience_level   | middle   \n",
      " biggest_salary     | 30400000 \n",
      " employee_residence | CL       \n",
      "-RECORD 3----------------------\n",
      " experience_level   | senior   \n",
      " biggest_salary     | 7000000  \n",
      " employee_residence | IN       \n",
      "\n"
     ]
    }
   ],
   "source": [
    "df_new_best.show(5, vertical=True)\n",
    "\n",
    "# as a test case\n",
    "# df_new_best.groupBy('experience_level').count().show()"
   ]
  },
  {
   "cell_type": "markdown",
   "id": "mineral-status",
   "metadata": {},
   "source": [
    "write df_new_best like 1.csv and load then it to df_final"
   ]
  },
  {
   "cell_type": "code",
   "execution_count": 27,
   "id": "baking-progress",
   "metadata": {},
   "outputs": [],
   "source": [
    "# df_new_best.coalesce(1).write.mode(\"overwrite\").csv(\"1.csv\")\n",
    "# df_final = spark.read.option(\"header\", False).csv(\"1.csv\")\n",
    "df_new_best.toPandas().to_csv(\"1_pandas.csv\", index=False)\n",
    "df_final = spark.read.option(\"header\", True).csv(\"1_pandas.csv\")"
   ]
  },
  {
   "cell_type": "markdown",
   "id": "vocal-shooting",
   "metadata": {},
   "source": [
    "print df_final"
   ]
  },
  {
   "cell_type": "code",
   "execution_count": 28,
   "id": "expired-viewer",
   "metadata": {},
   "outputs": [
    {
     "name": "stdout",
     "output_type": "stream",
     "text": [
      "+----------------+--------------+------------------+\n",
      "|experience_level|biggest_salary|employee_residence|\n",
      "+----------------+--------------+------------------+\n",
      "|            null|       4450000|                JP|\n",
      "|            null|       6000000|                IN|\n",
      "|          middle|      30400000|                CL|\n",
      "|          senior|       7000000|                IN|\n",
      "+----------------+--------------+------------------+\n",
      "\n"
     ]
    }
   ],
   "source": [
    "df_final.show()"
   ]
  },
  {
   "attachments": {},
   "cell_type": "markdown",
   "id": "nutritional-progress",
   "metadata": {},
   "source": [
    "filter df_final to delete experience_level where it Null. \n",
    "\n",
    "Then join this table by biggest_salary(salary_in_usd) and employee_residence with entire df"
   ]
  },
  {
   "cell_type": "code",
   "execution_count": 29,
   "id": "small-polymer",
   "metadata": {},
   "outputs": [],
   "source": [
    "df_final = ( df_final.filter(\n",
    "    df_final[\"experience_level\"]\n",
    "    .isNotNull())\n",
    "    .join(\n",
    "        df,\n",
    "        (df_final[\"employee_residence\"] == df[\"employee_residence\"])\n",
    "        & (df_final[\"biggest_salary\"] == df[\"salary\"]),\n",
    "        how=\"inner\",\n",
    "    )\n",
    ")"
   ]
  },
  {
   "cell_type": "markdown",
   "id": "variable-twins",
   "metadata": {},
   "source": [
    "print df_final"
   ]
  },
  {
   "cell_type": "code",
   "execution_count": 30,
   "id": "generic-block",
   "metadata": {},
   "outputs": [
    {
     "name": "stdout",
     "output_type": "stream",
     "text": [
      "-RECORD 0----------------------------------\n",
      " experience_level   | middle               \n",
      " biggest_salary     | 30400000             \n",
      " employee_residence | CL                   \n",
      " id                 | 177                  \n",
      " work_year          | 2021                 \n",
      " experience_level   | MI                   \n",
      " employment_type    | FT                   \n",
      " job_title          | Data Scientist       \n",
      " salary             | 30400000             \n",
      " salary_currency    | CLP                  \n",
      " salary_in_usd      | 40038                \n",
      " employee_residence | CL                   \n",
      " remote_ratio       | 100                  \n",
      " company_location   | CL                   \n",
      " company_size       | L                    \n",
      "-RECORD 1----------------------------------\n",
      " experience_level   | senior               \n",
      " biggest_salary     | 7000000              \n",
      " employee_residence | IN                   \n",
      " id                 | 285                  \n",
      " work_year          | 2021                 \n",
      " experience_level   | SE                   \n",
      " employment_type    | FT                   \n",
      " job_title          | Data Science Manager \n",
      " salary             | 7000000              \n",
      " salary_currency    | INR                  \n",
      " salary_in_usd      | 94665                \n",
      " employee_residence | IN                   \n",
      " remote_ratio       | 50                   \n",
      " company_location   | IN                   \n",
      " company_size       | L                    \n",
      "\n"
     ]
    }
   ],
   "source": [
    "df_final.show(5, vertical=True)"
   ]
  },
  {
   "cell_type": "markdown",
   "id": "variable-moore",
   "metadata": {},
   "source": [
    "last task is to save in variable and then print this variable of the biggest salary_in_usd from df_final"
   ]
  },
  {
   "cell_type": "code",
   "execution_count": 31,
   "id": "individual-institution",
   "metadata": {},
   "outputs": [
    {
     "data": {
      "text/plain": [
       "94665"
      ]
     },
     "execution_count": 31,
     "metadata": {},
     "output_type": "execute_result"
    }
   ],
   "source": [
    "from pyspark.sql.functions import max\n",
    "\n",
    "df_final.select(max(df_final[\"salary_in_usd\"])).collect()[0][\"max(salary_in_usd)\"]"
   ]
  },
  {
   "cell_type": "markdown",
   "id": "stopped-procedure",
   "metadata": {},
   "source": [
    "It is the end of PySpark basics. In other lessons you will learn optimizations technics and how to make distributed system"
   ]
  }
 ],
 "metadata": {
  "kernelspec": {
   "display_name": "Python 3",
   "language": "python",
   "name": "python3"
  },
  "language_info": {
   "codemirror_mode": {
    "name": "ipython",
    "version": 3
   },
   "file_extension": ".py",
   "mimetype": "text/x-python",
   "name": "python",
   "nbconvert_exporter": "python",
   "pygments_lexer": "ipython3",
   "version": "3.8.10"
  },
  "vscode": {
   "interpreter": {
    "hash": "31f2aee4e71d21fbe5cf8b01ff0e069b9275f58929596ceb00d14d90e3e16cd6"
   }
  }
 },
 "nbformat": 4,
 "nbformat_minor": 5
}
